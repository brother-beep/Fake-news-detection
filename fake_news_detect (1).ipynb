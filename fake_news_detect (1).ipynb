{
  "nbformat": 4,
  "nbformat_minor": 0,
  "metadata": {
    "colab": {
      "provenance": []
    },
    "kernelspec": {
      "name": "python3",
      "display_name": "Python 3"
    },
    "language_info": {
      "name": "python"
    }
  },
  "cells": [
    {
      "cell_type": "markdown",
      "source": [
        "# **Common approach to download a dataset from kaggle**\n",
        "\n",
        "I have done this project in colab notebook mainly. Then I have uploaded the file to the kaggle.\n",
        "\n",
        "# **Abstract**\n",
        "1. I have tried to use two types of model\n",
        "one is sklearn based fine tuned algorithm. Using tfidfvectorization for converting text into vector and train naive bayes model.\n",
        "\n",
        "2. Tokenize the text into vector using keras API and create a LSTM architechture to train on my custom dataset.\n",
        "\n",
        "Tfidf+naive bayes provide 93 % accuracy where LSTM privides better result in this case around 96 % accuracy.\n"
      ],
      "metadata": {
        "id": "hXRBlMI8UW6D"
      }
    },
    {
      "cell_type": "code",
      "execution_count": 1,
      "metadata": {
        "colab": {
          "base_uri": "https://localhost:8080/"
        },
        "outputId": "f7ce7480-057f-47b9-a0ed-96e2ce5e60ea",
        "id": "moTulfaYUXv7"
      },
      "outputs": [
        {
          "output_type": "stream",
          "name": "stdout",
          "text": [
            "Requirement already satisfied: kaggle in /usr/local/lib/python3.10/dist-packages (1.5.16)\n",
            "Requirement already satisfied: six>=1.10 in /usr/local/lib/python3.10/dist-packages (from kaggle) (1.16.0)\n",
            "Requirement already satisfied: certifi in /usr/local/lib/python3.10/dist-packages (from kaggle) (2023.11.17)\n",
            "Requirement already satisfied: python-dateutil in /usr/local/lib/python3.10/dist-packages (from kaggle) (2.8.2)\n",
            "Requirement already satisfied: requests in /usr/local/lib/python3.10/dist-packages (from kaggle) (2.31.0)\n",
            "Requirement already satisfied: tqdm in /usr/local/lib/python3.10/dist-packages (from kaggle) (4.66.1)\n",
            "Requirement already satisfied: python-slugify in /usr/local/lib/python3.10/dist-packages (from kaggle) (8.0.1)\n",
            "Requirement already satisfied: urllib3 in /usr/local/lib/python3.10/dist-packages (from kaggle) (2.0.7)\n",
            "Requirement already satisfied: bleach in /usr/local/lib/python3.10/dist-packages (from kaggle) (6.1.0)\n",
            "Requirement already satisfied: webencodings in /usr/local/lib/python3.10/dist-packages (from bleach->kaggle) (0.5.1)\n",
            "Requirement already satisfied: text-unidecode>=1.3 in /usr/local/lib/python3.10/dist-packages (from python-slugify->kaggle) (1.3)\n",
            "Requirement already satisfied: charset-normalizer<4,>=2 in /usr/local/lib/python3.10/dist-packages (from requests->kaggle) (3.3.2)\n",
            "Requirement already satisfied: idna<4,>=2.5 in /usr/local/lib/python3.10/dist-packages (from requests->kaggle) (3.6)\n"
          ]
        }
      ],
      "source": [
        "!pip install kaggle"
      ]
    },
    {
      "cell_type": "code",
      "source": [
        "!mkdir -p ~/.kaggle\n",
        "!cp kaggle.json ~/.kaggle/\n",
        "!chmod 600 ~/.kaggle/kaggle.json\n",
        "!kaggle datasets download -d emineyetm/fake-news-detection-datasets"
      ],
      "metadata": {
        "colab": {
          "base_uri": "https://localhost:8080/"
        },
        "id": "FiboZZQG2d3e",
        "outputId": "56cb9f09-1af8-4e5b-9604-331e6c94a9e0"
      },
      "execution_count": 2,
      "outputs": [
        {
          "output_type": "stream",
          "name": "stdout",
          "text": [
            "Downloading fake-news-detection-datasets.zip to /content\n",
            "100% 41.0M/41.0M [00:02<00:00, 18.0MB/s]\n",
            "100% 41.0M/41.0M [00:02<00:00, 14.7MB/s]\n"
          ]
        }
      ]
    },
    {
      "cell_type": "code",
      "source": [
        "!unzip /content/fake-news-detection-datasets.zip"
      ],
      "metadata": {
        "colab": {
          "base_uri": "https://localhost:8080/"
        },
        "id": "c6VbGQcY3u39",
        "outputId": "63864ded-778d-49d6-f7f1-fe29f6ac79c3"
      },
      "execution_count": 3,
      "outputs": [
        {
          "output_type": "stream",
          "name": "stdout",
          "text": [
            "Archive:  /content/fake-news-detection-datasets.zip\n",
            "  inflating: News _dataset/Fake.csv  \n",
            "  inflating: News _dataset/True.csv  \n"
          ]
        }
      ]
    },
    {
      "cell_type": "markdown",
      "source": [
        "# **Import necessary libraries**"
      ],
      "metadata": {
        "id": "IfWk1Um1UtfR"
      }
    },
    {
      "cell_type": "code",
      "source": [
        "import pandas as pd\n",
        "import matplotlib.pyplot as plt\n",
        "import seaborn as sns\n",
        "from sklearn.metrics import confusion_matrix,ConfusionMatrixDisplay,classification_report"
      ],
      "metadata": {
        "id": "fvuXZs3U325W"
      },
      "execution_count": 22,
      "outputs": []
    },
    {
      "cell_type": "markdown",
      "source": [
        "# **Load the data**"
      ],
      "metadata": {
        "id": "JYhgb0q3W47V"
      }
    },
    {
      "cell_type": "code",
      "source": [
        "true_df = pd.read_csv(\"/content/News _dataset/True.csv\")"
      ],
      "metadata": {
        "id": "eEHspUGP4Luq"
      },
      "execution_count": 2,
      "outputs": []
    },
    {
      "cell_type": "markdown",
      "source": [
        "# **preprocessing**"
      ],
      "metadata": {
        "id": "3A2Ac3P4c21G"
      }
    },
    {
      "cell_type": "code",
      "source": [
        "#replace all the labels with real\n",
        "\n",
        "true_df['subject'] = true_df['subject'].replace({'politicsNews':'real','worldnews':'real'})"
      ],
      "metadata": {
        "id": "rgJ4Z-ud4uts"
      },
      "execution_count": 3,
      "outputs": []
    },
    {
      "cell_type": "code",
      "source": [
        "true_df['subject'].value_counts()"
      ],
      "metadata": {
        "colab": {
          "base_uri": "https://localhost:8080/"
        },
        "id": "2USfMgtq43Z0",
        "outputId": "c1e7170a-5740-46cc-bc04-c5dce2ece7e0"
      },
      "execution_count": 4,
      "outputs": [
        {
          "output_type": "execute_result",
          "data": {
            "text/plain": [
              "real    21417\n",
              "Name: subject, dtype: int64"
            ]
          },
          "metadata": {},
          "execution_count": 4
        }
      ]
    },
    {
      "cell_type": "code",
      "source": [
        "#read the fake news\n",
        "\n",
        "fake_df = pd.read_csv(\"/content/News _dataset/Fake.csv\")"
      ],
      "metadata": {
        "id": "up4s3Ew35rt9"
      },
      "execution_count": 5,
      "outputs": []
    },
    {
      "cell_type": "code",
      "source": [
        "#available categories in fake news set\n",
        "\n",
        "fake_df['subject'].value_counts().index"
      ],
      "metadata": {
        "colab": {
          "base_uri": "https://localhost:8080/"
        },
        "id": "Us1iG_QZ7xWW",
        "outputId": "79da3cb9-53f2-4e22-a605-45ca4de138ed"
      },
      "execution_count": 6,
      "outputs": [
        {
          "output_type": "execute_result",
          "data": {
            "text/plain": [
              "Index(['News', 'politics', 'left-news', 'Government News', 'US_News',\n",
              "       'Middle-east'],\n",
              "      dtype='object')"
            ]
          },
          "metadata": {},
          "execution_count": 6
        }
      ]
    },
    {
      "cell_type": "code",
      "source": [
        "#replace all the category with fake\n",
        "\n",
        "fake_df['subject'] = fake_df['subject'].replace({'News':'fake','politics':\"fake\",\"left-news\":\"fake\",\"Government News\":\"fake\",\"US_News\":\"fake\",\"Middle-east\":\"fake\"})"
      ],
      "metadata": {
        "id": "M4dx6DRx7ODE"
      },
      "execution_count": 7,
      "outputs": []
    },
    {
      "cell_type": "code",
      "source": [
        "fake_df['subject'].value_counts()"
      ],
      "metadata": {
        "colab": {
          "base_uri": "https://localhost:8080/"
        },
        "id": "uQ95g3mq8oRi",
        "outputId": "79c2791e-3463-48bf-ce39-2cb8a8c79a4b"
      },
      "execution_count": 8,
      "outputs": [
        {
          "output_type": "execute_result",
          "data": {
            "text/plain": [
              "fake    23481\n",
              "Name: subject, dtype: int64"
            ]
          },
          "metadata": {},
          "execution_count": 8
        }
      ]
    },
    {
      "cell_type": "code",
      "source": [
        "#concate real news set and fake news set and shuffle randomly\n",
        "\n",
        "combined_df = pd.concat([true_df,fake_df])\n",
        "new_df = combined_df.sample(frac=1).reset_index(drop=True)"
      ],
      "metadata": {
        "id": "evgq5MLA81Cn"
      },
      "execution_count": 9,
      "outputs": []
    },
    {
      "cell_type": "code",
      "source": [
        "#overview of the dataset\n",
        "\n",
        "new_df.head()"
      ],
      "metadata": {
        "colab": {
          "base_uri": "https://localhost:8080/",
          "height": 206
        },
        "id": "uuUJRZoh9s72",
        "outputId": "6be46c1b-da81-44be-b3b4-3769bac34107"
      },
      "execution_count": 10,
      "outputs": [
        {
          "output_type": "execute_result",
          "data": {
            "text/plain": [
              "                                               title  \\\n",
              "0  WOW! Just When We Thought Obama’s Global Relat...   \n",
              "1  NEVER BEFORE SEEN: FBI Trove of 9/11 Pentagon ...   \n",
              "2  BREAKING: [Video] Obama’s State Dept Miraculou...   \n",
              "3  U.S. envoy Haley makes emotional visit to Cong...   \n",
              "4  Turkey's Justice Ministry says it canceled del...   \n",
              "\n",
              "                                                text subject  \\\n",
              "0  Weak leadership has repercussions The European...    fake   \n",
              "1  21st Century Wire says The FBI released 27  ne...    fake   \n",
              "2  What a great time for Joe Biden to announce. H...    fake   \n",
              "3  KITCHANGA, Democratic Republic of Congo (Reute...    real   \n",
              "4  ISTANBUL (Reuters) - Turkey s Justice Ministry...    real   \n",
              "\n",
              "                date  \n",
              "0       Oct 30, 2015  \n",
              "1     March 31, 2017  \n",
              "2       Oct 20, 2015  \n",
              "3  October 26, 2017   \n",
              "4  October 24, 2017   "
            ],
            "text/html": [
              "\n",
              "  <div id=\"df-10c998fa-60d2-40f9-bc07-cad48b7b59ab\" class=\"colab-df-container\">\n",
              "    <div>\n",
              "<style scoped>\n",
              "    .dataframe tbody tr th:only-of-type {\n",
              "        vertical-align: middle;\n",
              "    }\n",
              "\n",
              "    .dataframe tbody tr th {\n",
              "        vertical-align: top;\n",
              "    }\n",
              "\n",
              "    .dataframe thead th {\n",
              "        text-align: right;\n",
              "    }\n",
              "</style>\n",
              "<table border=\"1\" class=\"dataframe\">\n",
              "  <thead>\n",
              "    <tr style=\"text-align: right;\">\n",
              "      <th></th>\n",
              "      <th>title</th>\n",
              "      <th>text</th>\n",
              "      <th>subject</th>\n",
              "      <th>date</th>\n",
              "    </tr>\n",
              "  </thead>\n",
              "  <tbody>\n",
              "    <tr>\n",
              "      <th>0</th>\n",
              "      <td>WOW! Just When We Thought Obama’s Global Relat...</td>\n",
              "      <td>Weak leadership has repercussions The European...</td>\n",
              "      <td>fake</td>\n",
              "      <td>Oct 30, 2015</td>\n",
              "    </tr>\n",
              "    <tr>\n",
              "      <th>1</th>\n",
              "      <td>NEVER BEFORE SEEN: FBI Trove of 9/11 Pentagon ...</td>\n",
              "      <td>21st Century Wire says The FBI released 27  ne...</td>\n",
              "      <td>fake</td>\n",
              "      <td>March 31, 2017</td>\n",
              "    </tr>\n",
              "    <tr>\n",
              "      <th>2</th>\n",
              "      <td>BREAKING: [Video] Obama’s State Dept Miraculou...</td>\n",
              "      <td>What a great time for Joe Biden to announce. H...</td>\n",
              "      <td>fake</td>\n",
              "      <td>Oct 20, 2015</td>\n",
              "    </tr>\n",
              "    <tr>\n",
              "      <th>3</th>\n",
              "      <td>U.S. envoy Haley makes emotional visit to Cong...</td>\n",
              "      <td>KITCHANGA, Democratic Republic of Congo (Reute...</td>\n",
              "      <td>real</td>\n",
              "      <td>October 26, 2017</td>\n",
              "    </tr>\n",
              "    <tr>\n",
              "      <th>4</th>\n",
              "      <td>Turkey's Justice Ministry says it canceled del...</td>\n",
              "      <td>ISTANBUL (Reuters) - Turkey s Justice Ministry...</td>\n",
              "      <td>real</td>\n",
              "      <td>October 24, 2017</td>\n",
              "    </tr>\n",
              "  </tbody>\n",
              "</table>\n",
              "</div>\n",
              "    <div class=\"colab-df-buttons\">\n",
              "\n",
              "  <div class=\"colab-df-container\">\n",
              "    <button class=\"colab-df-convert\" onclick=\"convertToInteractive('df-10c998fa-60d2-40f9-bc07-cad48b7b59ab')\"\n",
              "            title=\"Convert this dataframe to an interactive table.\"\n",
              "            style=\"display:none;\">\n",
              "\n",
              "  <svg xmlns=\"http://www.w3.org/2000/svg\" height=\"24px\" viewBox=\"0 -960 960 960\">\n",
              "    <path d=\"M120-120v-720h720v720H120Zm60-500h600v-160H180v160Zm220 220h160v-160H400v160Zm0 220h160v-160H400v160ZM180-400h160v-160H180v160Zm440 0h160v-160H620v160ZM180-180h160v-160H180v160Zm440 0h160v-160H620v160Z\"/>\n",
              "  </svg>\n",
              "    </button>\n",
              "\n",
              "  <style>\n",
              "    .colab-df-container {\n",
              "      display:flex;\n",
              "      gap: 12px;\n",
              "    }\n",
              "\n",
              "    .colab-df-convert {\n",
              "      background-color: #E8F0FE;\n",
              "      border: none;\n",
              "      border-radius: 50%;\n",
              "      cursor: pointer;\n",
              "      display: none;\n",
              "      fill: #1967D2;\n",
              "      height: 32px;\n",
              "      padding: 0 0 0 0;\n",
              "      width: 32px;\n",
              "    }\n",
              "\n",
              "    .colab-df-convert:hover {\n",
              "      background-color: #E2EBFA;\n",
              "      box-shadow: 0px 1px 2px rgba(60, 64, 67, 0.3), 0px 1px 3px 1px rgba(60, 64, 67, 0.15);\n",
              "      fill: #174EA6;\n",
              "    }\n",
              "\n",
              "    .colab-df-buttons div {\n",
              "      margin-bottom: 4px;\n",
              "    }\n",
              "\n",
              "    [theme=dark] .colab-df-convert {\n",
              "      background-color: #3B4455;\n",
              "      fill: #D2E3FC;\n",
              "    }\n",
              "\n",
              "    [theme=dark] .colab-df-convert:hover {\n",
              "      background-color: #434B5C;\n",
              "      box-shadow: 0px 1px 3px 1px rgba(0, 0, 0, 0.15);\n",
              "      filter: drop-shadow(0px 1px 2px rgba(0, 0, 0, 0.3));\n",
              "      fill: #FFFFFF;\n",
              "    }\n",
              "  </style>\n",
              "\n",
              "    <script>\n",
              "      const buttonEl =\n",
              "        document.querySelector('#df-10c998fa-60d2-40f9-bc07-cad48b7b59ab button.colab-df-convert');\n",
              "      buttonEl.style.display =\n",
              "        google.colab.kernel.accessAllowed ? 'block' : 'none';\n",
              "\n",
              "      async function convertToInteractive(key) {\n",
              "        const element = document.querySelector('#df-10c998fa-60d2-40f9-bc07-cad48b7b59ab');\n",
              "        const dataTable =\n",
              "          await google.colab.kernel.invokeFunction('convertToInteractive',\n",
              "                                                    [key], {});\n",
              "        if (!dataTable) return;\n",
              "\n",
              "        const docLinkHtml = 'Like what you see? Visit the ' +\n",
              "          '<a target=\"_blank\" href=https://colab.research.google.com/notebooks/data_table.ipynb>data table notebook</a>'\n",
              "          + ' to learn more about interactive tables.';\n",
              "        element.innerHTML = '';\n",
              "        dataTable['output_type'] = 'display_data';\n",
              "        await google.colab.output.renderOutput(dataTable, element);\n",
              "        const docLink = document.createElement('div');\n",
              "        docLink.innerHTML = docLinkHtml;\n",
              "        element.appendChild(docLink);\n",
              "      }\n",
              "    </script>\n",
              "  </div>\n",
              "\n",
              "\n",
              "<div id=\"df-7e18b950-82fc-47d1-81b0-15aeb62f3981\">\n",
              "  <button class=\"colab-df-quickchart\" onclick=\"quickchart('df-7e18b950-82fc-47d1-81b0-15aeb62f3981')\"\n",
              "            title=\"Suggest charts\"\n",
              "            style=\"display:none;\">\n",
              "\n",
              "<svg xmlns=\"http://www.w3.org/2000/svg\" height=\"24px\"viewBox=\"0 0 24 24\"\n",
              "     width=\"24px\">\n",
              "    <g>\n",
              "        <path d=\"M19 3H5c-1.1 0-2 .9-2 2v14c0 1.1.9 2 2 2h14c1.1 0 2-.9 2-2V5c0-1.1-.9-2-2-2zM9 17H7v-7h2v7zm4 0h-2V7h2v10zm4 0h-2v-4h2v4z\"/>\n",
              "    </g>\n",
              "</svg>\n",
              "  </button>\n",
              "\n",
              "<style>\n",
              "  .colab-df-quickchart {\n",
              "      --bg-color: #E8F0FE;\n",
              "      --fill-color: #1967D2;\n",
              "      --hover-bg-color: #E2EBFA;\n",
              "      --hover-fill-color: #174EA6;\n",
              "      --disabled-fill-color: #AAA;\n",
              "      --disabled-bg-color: #DDD;\n",
              "  }\n",
              "\n",
              "  [theme=dark] .colab-df-quickchart {\n",
              "      --bg-color: #3B4455;\n",
              "      --fill-color: #D2E3FC;\n",
              "      --hover-bg-color: #434B5C;\n",
              "      --hover-fill-color: #FFFFFF;\n",
              "      --disabled-bg-color: #3B4455;\n",
              "      --disabled-fill-color: #666;\n",
              "  }\n",
              "\n",
              "  .colab-df-quickchart {\n",
              "    background-color: var(--bg-color);\n",
              "    border: none;\n",
              "    border-radius: 50%;\n",
              "    cursor: pointer;\n",
              "    display: none;\n",
              "    fill: var(--fill-color);\n",
              "    height: 32px;\n",
              "    padding: 0;\n",
              "    width: 32px;\n",
              "  }\n",
              "\n",
              "  .colab-df-quickchart:hover {\n",
              "    background-color: var(--hover-bg-color);\n",
              "    box-shadow: 0 1px 2px rgba(60, 64, 67, 0.3), 0 1px 3px 1px rgba(60, 64, 67, 0.15);\n",
              "    fill: var(--button-hover-fill-color);\n",
              "  }\n",
              "\n",
              "  .colab-df-quickchart-complete:disabled,\n",
              "  .colab-df-quickchart-complete:disabled:hover {\n",
              "    background-color: var(--disabled-bg-color);\n",
              "    fill: var(--disabled-fill-color);\n",
              "    box-shadow: none;\n",
              "  }\n",
              "\n",
              "  .colab-df-spinner {\n",
              "    border: 2px solid var(--fill-color);\n",
              "    border-color: transparent;\n",
              "    border-bottom-color: var(--fill-color);\n",
              "    animation:\n",
              "      spin 1s steps(1) infinite;\n",
              "  }\n",
              "\n",
              "  @keyframes spin {\n",
              "    0% {\n",
              "      border-color: transparent;\n",
              "      border-bottom-color: var(--fill-color);\n",
              "      border-left-color: var(--fill-color);\n",
              "    }\n",
              "    20% {\n",
              "      border-color: transparent;\n",
              "      border-left-color: var(--fill-color);\n",
              "      border-top-color: var(--fill-color);\n",
              "    }\n",
              "    30% {\n",
              "      border-color: transparent;\n",
              "      border-left-color: var(--fill-color);\n",
              "      border-top-color: var(--fill-color);\n",
              "      border-right-color: var(--fill-color);\n",
              "    }\n",
              "    40% {\n",
              "      border-color: transparent;\n",
              "      border-right-color: var(--fill-color);\n",
              "      border-top-color: var(--fill-color);\n",
              "    }\n",
              "    60% {\n",
              "      border-color: transparent;\n",
              "      border-right-color: var(--fill-color);\n",
              "    }\n",
              "    80% {\n",
              "      border-color: transparent;\n",
              "      border-right-color: var(--fill-color);\n",
              "      border-bottom-color: var(--fill-color);\n",
              "    }\n",
              "    90% {\n",
              "      border-color: transparent;\n",
              "      border-bottom-color: var(--fill-color);\n",
              "    }\n",
              "  }\n",
              "</style>\n",
              "\n",
              "  <script>\n",
              "    async function quickchart(key) {\n",
              "      const quickchartButtonEl =\n",
              "        document.querySelector('#' + key + ' button');\n",
              "      quickchartButtonEl.disabled = true;  // To prevent multiple clicks.\n",
              "      quickchartButtonEl.classList.add('colab-df-spinner');\n",
              "      try {\n",
              "        const charts = await google.colab.kernel.invokeFunction(\n",
              "            'suggestCharts', [key], {});\n",
              "      } catch (error) {\n",
              "        console.error('Error during call to suggestCharts:', error);\n",
              "      }\n",
              "      quickchartButtonEl.classList.remove('colab-df-spinner');\n",
              "      quickchartButtonEl.classList.add('colab-df-quickchart-complete');\n",
              "    }\n",
              "    (() => {\n",
              "      let quickchartButtonEl =\n",
              "        document.querySelector('#df-7e18b950-82fc-47d1-81b0-15aeb62f3981 button');\n",
              "      quickchartButtonEl.style.display =\n",
              "        google.colab.kernel.accessAllowed ? 'block' : 'none';\n",
              "    })();\n",
              "  </script>\n",
              "</div>\n",
              "\n",
              "    </div>\n",
              "  </div>\n"
            ]
          },
          "metadata": {},
          "execution_count": 10
        }
      ]
    },
    {
      "cell_type": "code",
      "source": [
        "# Drop unused column\n",
        "\n",
        "new_df.drop(['date'],axis=1,inplace=True)"
      ],
      "metadata": {
        "id": "XIP-KYnY9vEJ"
      },
      "execution_count": 11,
      "outputs": []
    },
    {
      "cell_type": "markdown",
      "source": [
        "# **Format new dataset**"
      ],
      "metadata": {
        "id": "1IzKziiT6ned"
      }
    },
    {
      "cell_type": "code",
      "source": [
        "# create a new column\n",
        "\n",
        "new_df['news'] = new_df['title'] + ' ' +new_df['text']"
      ],
      "metadata": {
        "id": "gfmfozBjBF4u"
      },
      "execution_count": 12,
      "outputs": []
    },
    {
      "cell_type": "code",
      "source": [
        "new_df.drop(['title','text'],inplace=True,axis=1)"
      ],
      "metadata": {
        "id": "kWup6hodBrpu"
      },
      "execution_count": 13,
      "outputs": []
    },
    {
      "cell_type": "code",
      "source": [
        "new_df['subject'].value_counts()"
      ],
      "metadata": {
        "colab": {
          "base_uri": "https://localhost:8080/"
        },
        "id": "46_r46k37-Ys",
        "outputId": "5785f011-4610-47e3-d6d7-b69a9ce7fe8d"
      },
      "execution_count": 14,
      "outputs": [
        {
          "output_type": "execute_result",
          "data": {
            "text/plain": [
              "fake    23481\n",
              "real    21417\n",
              "Name: subject, dtype: int64"
            ]
          },
          "metadata": {},
          "execution_count": 14
        }
      ]
    },
    {
      "cell_type": "code",
      "source": [
        "# check the balanceness of the label through visualization\n",
        "import matplotlib.pyplot as plt\n",
        "index = new_df['subject'].value_counts().index\n",
        "value = new_df['subject'].value_counts().values\n",
        "\n",
        "# plot the categorical distribution\n",
        "\n",
        "plt.bar(index,value,color=['r','b'])\n",
        "plt.title(\"categorical Distribution\")\n",
        "plt.ylabel(\"number\")\n",
        "plt.show()"
      ],
      "metadata": {
        "colab": {
          "base_uri": "https://localhost:8080/",
          "height": 452
        },
        "id": "C_Ac7p_x8Loi",
        "outputId": "7f022600-887f-488b-a4b3-12c22c61c2b5"
      },
      "execution_count": 15,
      "outputs": [
        {
          "output_type": "display_data",
          "data": {
            "text/plain": [
              "<Figure size 640x480 with 1 Axes>"
            ],
            "image/png": "[encoded data removed]"
          },
          "metadata": {}
        }
      ]
    },
    {
      "cell_type": "markdown",
      "source": [
        "# **Tfidf vectorization**"
      ],
      "metadata": {
        "id": "UJIRyHwO7ExY"
      }
    },
    {
      "cell_type": "code",
      "source": [
        "from sklearn.feature_extraction.text import TfidfVectorizer\n",
        "tf = TfidfVectorizer(stop_words=\"english\",max_features=15000)\n",
        "X = tf.fit_transform(new_df['news']).toarray()"
      ],
      "metadata": {
        "id": "N0fWQA3LB2De"
      },
      "execution_count": 16,
      "outputs": []
    },
    {
      "cell_type": "markdown",
      "source": [
        "# **Encoding label from categorical to numeric**"
      ],
      "metadata": {
        "id": "vIh0avZo7WlY"
      }
    },
    {
      "cell_type": "code",
      "source": [
        "from sklearn.preprocessing import LabelEncoder # using labelencoding method\n",
        "lbl = LabelEncoder()\n",
        "new_df['subject'] = lbl.fit_transform(new_df['subject'])"
      ],
      "metadata": {
        "id": "46rAYTodB9VO"
      },
      "execution_count": 17,
      "outputs": []
    },
    {
      "cell_type": "markdown",
      "source": [
        "# **separate target and feature**"
      ],
      "metadata": {
        "id": "SfkGJFrs7q6o"
      }
    },
    {
      "cell_type": "code",
      "source": [
        "import numpy as  np\n",
        "X = np.array(X)\n",
        "y = np.array(new_df['subject'])"
      ],
      "metadata": {
        "id": "bU-qXBoMCAcN"
      },
      "execution_count": 18,
      "outputs": []
    },
    {
      "cell_type": "markdown",
      "source": [
        "# **split train and test set**"
      ],
      "metadata": {
        "id": "pB4XNrDI7y2z"
      }
    },
    {
      "cell_type": "code",
      "source": [
        "from sklearn.model_selection import train_test_split\n",
        "x_train,x_test,y_train,y_test = train_test_split(X,y,test_size=0.2,random_state=0)"
      ],
      "metadata": {
        "id": "Z1_htqQwHWSd"
      },
      "execution_count": 19,
      "outputs": []
    },
    {
      "cell_type": "markdown",
      "source": [
        "# **Naive bayes calssifier**"
      ],
      "metadata": {
        "id": "aqgZ5mya_Dzo"
      }
    },
    {
      "cell_type": "code",
      "source": [
        "from sklearn.naive_bayes import MultinomialNB\n",
        "ml = MultinomialNB()  # initialize the model\n",
        "ml.fit(x_train,y_train) # fit the dataset into the model"
      ],
      "metadata": {
        "colab": {
          "base_uri": "https://localhost:8080/",
          "height": 74
        },
        "id": "PGWHmMoeIC1X",
        "outputId": "871fe8f4-0d3f-4def-a433-e9bb84430fa2"
      },
      "execution_count": 20,
      "outputs": [
        {
          "output_type": "execute_result",
          "data": {
            "text/plain": [
              "MultinomialNB()"
            ],
            "text/html": [
              "<style>#sk-container-id-1 {color: black;background-color: white;}#sk-container-id-1 pre{padding: 0;}#sk-container-id-1 div.sk-toggleable {background-color: white;}#sk-container-id-1 label.sk-toggleable__label {cursor: pointer;display: block;width: 100%;margin-bottom: 0;padding: 0.3em;box-sizing: border-box;text-align: center;}#sk-container-id-1 label.sk-toggleable__label-arrow:before {content: \"▸\";float: left;margin-right: 0.25em;color: #696969;}#sk-container-id-1 label.sk-toggleable__label-arrow:hover:before {color: black;}#sk-container-id-1 div.sk-estimator:hover label.sk-toggleable__label-arrow:before {color: black;}#sk-container-id-1 div.sk-toggleable__content {max-height: 0;max-width: 0;overflow: hidden;text-align: left;background-color: #f0f8ff;}#sk-container-id-1 div.sk-toggleable__content pre {margin: 0.2em;color: black;border-radius: 0.25em;background-color: #f0f8ff;}#sk-container-id-1 input.sk-toggleable__control:checked~div.sk-toggleable__content {max-height: 200px;max-width: 100%;overflow: auto;}#sk-container-id-1 input.sk-toggleable__control:checked~label.sk-toggleable__label-arrow:before {content: \"▾\";}#sk-container-id-1 div.sk-estimator input.sk-toggleable__control:checked~label.sk-toggleable__label {background-color: #d4ebff;}#sk-container-id-1 div.sk-label input.sk-toggleable__control:checked~label.sk-toggleable__label {background-color: #d4ebff;}#sk-container-id-1 input.sk-hidden--visually {border: 0;clip: rect(1px 1px 1px 1px);clip: rect(1px, 1px, 1px, 1px);height: 1px;margin: -1px;overflow: hidden;padding: 0;position: absolute;width: 1px;}#sk-container-id-1 div.sk-estimator {font-family: monospace;background-color: #f0f8ff;border: 1px dotted black;border-radius: 0.25em;box-sizing: border-box;margin-bottom: 0.5em;}#sk-container-id-1 div.sk-estimator:hover {background-color: #d4ebff;}#sk-container-id-1 div.sk-parallel-item::after {content: \"\";width: 100%;border-bottom: 1px solid gray;flex-grow: 1;}#sk-container-id-1 div.sk-label:hover label.sk-toggleable__label {background-color: #d4ebff;}#sk-container-id-1 div.sk-serial::before {content: \"\";position: absolute;border-left: 1px solid gray;box-sizing: border-box;top: 0;bottom: 0;left: 50%;z-index: 0;}#sk-container-id-1 div.sk-serial {display: flex;flex-direction: column;align-items: center;background-color: white;padding-right: 0.2em;padding-left: 0.2em;position: relative;}#sk-container-id-1 div.sk-item {position: relative;z-index: 1;}#sk-container-id-1 div.sk-parallel {display: flex;align-items: stretch;justify-content: center;background-color: white;position: relative;}#sk-container-id-1 div.sk-item::before, #sk-container-id-1 div.sk-parallel-item::before {content: \"\";position: absolute;border-left: 1px solid gray;box-sizing: border-box;top: 0;bottom: 0;left: 50%;z-index: -1;}#sk-container-id-1 div.sk-parallel-item {display: flex;flex-direction: column;z-index: 1;position: relative;background-color: white;}#sk-container-id-1 div.sk-parallel-item:first-child::after {align-self: flex-end;width: 50%;}#sk-container-id-1 div.sk-parallel-item:last-child::after {align-self: flex-start;width: 50%;}#sk-container-id-1 div.sk-parallel-item:only-child::after {width: 0;}#sk-container-id-1 div.sk-dashed-wrapped {border: 1px dashed gray;margin: 0 0.4em 0.5em 0.4em;box-sizing: border-box;padding-bottom: 0.4em;background-color: white;}#sk-container-id-1 div.sk-label label {font-family: monospace;font-weight: bold;display: inline-block;line-height: 1.2em;}#sk-container-id-1 div.sk-label-container {text-align: center;}#sk-container-id-1 div.sk-container {/* jupyter's `normalize.less` sets `[hidden] { display: none; }` but bootstrap.min.css set `[hidden] { display: none !important; }` so we also need the `!important` here to be able to override the default hidden behavior on the sphinx rendered scikit-learn.org. See: https://github.com/scikit-learn/scikit-learn/issues/21755 */display: inline-block !important;position: relative;}#sk-container-id-1 div.sk-text-repr-fallback {display: none;}</style><div id=\"sk-container-id-1\" class=\"sk-top-container\"><div class=\"sk-text-repr-fallback\"><pre>MultinomialNB()</pre><b>In a Jupyter environment, please rerun this cell to show the HTML representation or trust the notebook. <br />On GitHub, the HTML representation is unable to render, please try loading this page with nbviewer.org.</b></div><div class=\"sk-container\" hidden><div class=\"sk-item\"><div class=\"sk-estimator sk-toggleable\"><input class=\"sk-toggleable__control sk-hidden--visually\" id=\"sk-estimator-id-1\" type=\"checkbox\" checked><label for=\"sk-estimator-id-1\" class=\"sk-toggleable__label sk-toggleable__label-arrow\">MultinomialNB</label><div class=\"sk-toggleable__content\"><pre>MultinomialNB()</pre></div></div></div></div></div>"
            ]
          },
          "metadata": {},
          "execution_count": 20
        }
      ]
    },
    {
      "cell_type": "markdown",
      "source": [
        "# **save the model**"
      ],
      "metadata": {
        "id": "Ucx1iIhxD4Ak"
      }
    },
    {
      "cell_type": "code",
      "source": [
        "import pickle\n",
        "\n",
        "# Save the trained model to a file using pickle\n",
        "model_file_path = '/content/News _dataset/fake-news-detector'\n",
        "with open(model_file_path, 'wb') as file:\n",
        "    pickle.dump(ml, file)\n",
        "\n",
        "# Load the saved model back into memory\n",
        "with open(model_file_path, 'rb') as file:\n",
        "    loaded_model = pickle.load(file)\n"
      ],
      "metadata": {
        "id": "P7wj4Q-iC70b"
      },
      "execution_count": 33,
      "outputs": []
    },
    {
      "cell_type": "markdown",
      "source": [
        "# **performance**"
      ],
      "metadata": {
        "id": "tf5QxHFZ_eMD"
      }
    },
    {
      "cell_type": "code",
      "source": [
        "y_pred = ml.predict(x_test) #prediction\n",
        "\n",
        "#performance report\n",
        "print(f\"accuracy of the model :{ml.score(x_test,y_test)*100:.2f} %\")\n",
        "print(f\"classification report:\\n{classification_report(y_test,y_pred)}\")\n",
        "\n",
        "#confusion matrix\n",
        "cnf = confusion_matrix(y_test,y_pred)\n",
        "plot = ConfusionMatrixDisplay(cnf,display_labels=['fake','real']).plot()\n",
        "plt.show()"
      ],
      "metadata": {
        "colab": {
          "base_uri": "https://localhost:8080/",
          "height": 640
        },
        "id": "Feu4E40dIaKa",
        "outputId": "1d46d23b-331d-44fc-846f-39c5352bada0"
      },
      "execution_count": 29,
      "outputs": [
        {
          "output_type": "stream",
          "name": "stdout",
          "text": [
            "accuracy of the model :93.56 %\n",
            "classification report:\n",
            "              precision    recall  f1-score   support\n",
            "\n",
            "           0       0.94      0.94      0.94      4703\n",
            "           1       0.94      0.93      0.93      4277\n",
            "\n",
            "    accuracy                           0.94      8980\n",
            "   macro avg       0.94      0.94      0.94      8980\n",
            "weighted avg       0.94      0.94      0.94      8980\n",
            "\n"
          ]
        },
        {
          "output_type": "display_data",
          "data": {
            "text/plain": [
              "<Figure size 640x480 with 2 Axes>"
            ],
            "image/png": "[encoded data removed]"
          },
          "metadata": {}
        }
      ]
    },
    {
      "cell_type": "markdown",
      "source": [
        "# **Time to shift in DL model**"
      ],
      "metadata": {
        "id": "DT36Vz9NBx9W"
      }
    },
    {
      "cell_type": "code",
      "source": [
        "#import necessary libraries under tenforflow framework\n",
        "\n",
        "from tensorflow.keras.preprocessing.text import Tokenizer\n",
        "from tensorflow.keras.layers import LSTM,GRU,Bidirectional,Embedding,Dense,Dropout\n",
        "from tensorflow.keras.utils import pad_sequences\n",
        "from tensorflow.keras import Sequential"
      ],
      "metadata": {
        "id": "yZMMJaX5Id_4"
      },
      "execution_count": 34,
      "outputs": []
    },
    {
      "cell_type": "markdown",
      "source": [
        "# **text Preprocessing**"
      ],
      "metadata": {
        "id": "pYS4gPvwB-WA"
      }
    },
    {
      "cell_type": "code",
      "source": [
        "import re\n",
        "\n",
        "def clean_text(text):\n",
        "    # Remove punctuation, symbols, and hyperlinks\n",
        "    clean_text = re.sub(r'[^\\w\\s]', '', text)  # Remove punctuation and symbols\n",
        "    clean_text = re.sub(r'http\\S+', '', clean_text)  # Remove hyperlinks\n",
        "    clean_text = clean_text.lower()  # Convert to lowercase\n",
        "    return clean_text\n",
        "\n",
        "new_df['news'] = new_df['news'].apply(clean_text)\n"
      ],
      "metadata": {
        "id": "CtblpUWTEzKy"
      },
      "execution_count": null,
      "outputs": []
    },
    {
      "cell_type": "code",
      "source": [
        "#over view\n",
        "\n",
        "new_df['news']"
      ],
      "metadata": {
        "colab": {
          "base_uri": "https://localhost:8080/"
        },
        "id": "aQQhKgL5CDfs",
        "outputId": "a200b35e-5e2a-4be6-f516-92028a67ac73"
      },
      "execution_count": null,
      "outputs": [
        {
          "output_type": "execute_result",
          "data": {
            "text/plain": [
              "0        us senate leader says iran sanctions renewal w...\n",
              "1         conservatives are crying after meryl streep d...\n",
              "2         richard spencers fascist goon squad couldnt k...\n",
              "3        russia expresses deep concern about north kore...\n",
              "4         breaking dakota access pipeline stopped by ar...\n",
              "                               ...                        \n",
              "44893    light aircraft crash kills 11 in tanzania dar ...\n",
              "44894    germanys merkel says urgently need more sancti...\n",
              "44895     trump has planted spies to ensure his cabinet...\n",
              "44896     chris christie takes his family to closed bea...\n",
              "44897     joe scarborough just eviscerated trumps attor...\n",
              "Name: news, Length: 44898, dtype: object"
            ]
          },
          "metadata": {},
          "execution_count": 28
        }
      ]
    },
    {
      "cell_type": "markdown",
      "source": [
        "# **Tokenization**"
      ],
      "metadata": {
        "id": "60pbM7nWCK-0"
      }
    },
    {
      "cell_type": "code",
      "source": [
        "tk = Tokenizer()  #initialize the tokenizer\n",
        "\n",
        "tk.fit_on_texts(new_df['news'])\n",
        "seq = tk.texts_to_sequences(new_df['news'])"
      ],
      "metadata": {
        "id": "Ck-Us4A0IJ07"
      },
      "execution_count": null,
      "outputs": []
    },
    {
      "cell_type": "code",
      "source": [
        "# convert into vector where each vector size will be 200\n",
        "vector = pad_sequences(seq,padding='post',maxlen=200)"
      ],
      "metadata": {
        "id": "V_cSGnxFJQiE"
      },
      "execution_count": null,
      "outputs": []
    },
    {
      "cell_type": "markdown",
      "source": [
        "# **convert feature vector and label into numpy array **"
      ],
      "metadata": {
        "id": "LYOWWRC4EQga"
      }
    },
    {
      "cell_type": "code",
      "source": [
        "X = np.array(vector)\n",
        "y = np.array(new_df['subject'])"
      ],
      "metadata": {
        "id": "dqsZqVKWJbyl"
      },
      "execution_count": null,
      "outputs": []
    },
    {
      "cell_type": "markdown",
      "source": [
        "# **split train and test set**"
      ],
      "metadata": {
        "id": "XAh9ro2GEfAz"
      }
    },
    {
      "cell_type": "code",
      "source": [
        "from sklearn.model_selection import train_test_split\n",
        "x_train,x_test,y_train,y_test = train_test_split(X,y,test_size=0.2,random_state=0)"
      ],
      "metadata": {
        "id": "2zkqfus-J66-"
      },
      "execution_count": null,
      "outputs": []
    },
    {
      "cell_type": "markdown",
      "source": [
        "# **Design the model using LSTM architecture**"
      ],
      "metadata": {
        "id": "rCfGqdoQEjhg"
      }
    },
    {
      "cell_type": "code",
      "source": [
        "model = Sequential()\n",
        "model.add(Embedding(input_dim=len(tk.word_index)+1,output_dim=200,input_length=200))\n",
        "model.add(LSTM(units=128))\n",
        "model.add(Dense(units=1,activation='sigmoid'))"
      ],
      "metadata": {
        "id": "dCFZ3aZ0K8Fn"
      },
      "execution_count": null,
      "outputs": []
    },
    {
      "cell_type": "code",
      "source": [
        "#model compilation\n",
        "\n",
        "model.compile(optimizer='adam',loss='binary_crossentropy',metrics=['accuracy'])"
      ],
      "metadata": {
        "id": "KPo9YmPkN7l-"
      },
      "execution_count": null,
      "outputs": []
    },
    {
      "cell_type": "code",
      "source": [
        "# train the model with 2 epochs only\n",
        "history = model.fit(x_train,y_train,epochs=2,validation_data=(x_test,y_test),batch_size=16)"
      ],
      "metadata": {
        "colab": {
          "base_uri": "https://localhost:8080/"
        },
        "id": "30g2PVPcOL82",
        "outputId": "32bf6816-cb5b-4030-dd48-9fa4714e10a9"
      },
      "execution_count": null,
      "outputs": [
        {
          "output_type": "stream",
          "name": "stdout",
          "text": [
            "Epoch 1/2\n",
            "2245/2245 [==============================] - 3184s 1s/step - loss: 0.1936 - accuracy: 0.9320 - val_loss: 0.3646 - val_accuracy: 0.8776\n",
            "Epoch 2/2\n",
            "2245/2245 [==============================] - 3156s 1s/step - loss: 0.1431 - accuracy: 0.9462 - val_loss: 0.0988 - val_accuracy: 0.9694\n"
          ]
        }
      ]
    },
    {
      "cell_type": "code",
      "source": [
        "#evaluate the model\n",
        "model.evaluate(x_test,y_test)"
      ],
      "metadata": {
        "colab": {
          "base_uri": "https://localhost:8080/"
        },
        "id": "9xvH02GYOTdO",
        "outputId": "69253c40-5075-4bdf-c364-2edd8de35b6a"
      },
      "execution_count": null,
      "outputs": [
        {
          "output_type": "stream",
          "name": "stdout",
          "text": [
            "281/281 [==============================] - 33s 116ms/step - loss: 0.0988 - accuracy: 0.9694\n"
          ]
        },
        {
          "output_type": "execute_result",
          "data": {
            "text/plain": [
              "[0.09884213656187057, 0.9693763852119446]"
            ]
          },
          "metadata": {},
          "execution_count": 46
        }
      ]
    },
    {
      "cell_type": "code",
      "source": [
        "# Save the model to your desktop directory\n",
        "model.save('C:/Users/DELL/Downloads/fake-news-detector.h5')"
      ],
      "metadata": {
        "id": "AjexP2TsnYyS"
      },
      "execution_count": null,
      "outputs": []
    },
    {
      "cell_type": "code",
      "source": [
        "from keras.models import load_model\n",
        "saved_model = load_model(\"/content/News _dataset/fake-news-detector\")"
      ],
      "metadata": {
        "id": "5Q08pLwcppyM"
      },
      "execution_count": null,
      "outputs": []
    },
    {
      "cell_type": "code",
      "source": [
        "y_pred_prob = saved_model.predict(x_test)\n",
        "y_pred = (y_pred_prob > 0.5).astype(int)"
      ],
      "metadata": {
        "colab": {
          "base_uri": "https://localhost:8080/"
        },
        "id": "ipX0-b_KqQWP",
        "outputId": "6636ad0b-b30e-42e1-d451-34779a89e8e7"
      },
      "execution_count": null,
      "outputs": [
        {
          "output_type": "stream",
          "name": "stdout",
          "text": [
            "281/281 [==============================] - 32s 112ms/step\n"
          ]
        }
      ]
    },
    {
      "cell_type": "code",
      "source": [
        "from sklearn.metrics import ConfusionMatrixDisplay,confusion_matrix\n",
        "cnf = confusion_matrix(y_test,y_pred)\n",
        "ax = ConfusionMatrixDisplay(cnf).plot()\n",
        "plt.show()"
      ],
      "metadata": {
        "colab": {
          "base_uri": "https://localhost:8080/",
          "height": 449
        },
        "id": "iM-PaXtcsdze",
        "outputId": "3ecc7573-f711-43e9-d16d-2b2731f7e83f"
      },
      "execution_count": null,
      "outputs": [
        {
          "output_type": "display_data",
          "data": {
            "text/plain": [
              "<Figure size 640x480 with 2 Axes>"
            ],
            "image/png": "[encoded data removed]"
          },
          "metadata": {}
        }
      ]
    }
  ]
}